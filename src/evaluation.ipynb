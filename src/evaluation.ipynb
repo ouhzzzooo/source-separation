{
 "cells": [
  {
   "cell_type": "code",
   "execution_count": null,
   "metadata": {},
   "outputs": [],
   "source": [
    "# Install necessary packages\n",
    "!pip install torch numpy pandas scikit-learn\n",
    "\n",
    "# Import necessary libraries\n",
    "import torch\n",
    "import numpy as np\n",
    "import pandas as pd\n",
    "from sklearn.metrics import mean_squared_error, accuracy_score\n",
    "from torch.utils.data import DataLoader, Dataset\n",
    "from model_reconstructed import UNet1D, AdvancedCNNAutoencoder\n",
    "\n",
    "# Verify the Python environment\n",
    "import sys\n",
    "print(sys.executable)"
   ]
  },
  {
   "cell_type": "code",
   "execution_count": null,
   "metadata": {},
   "outputs": [],
   "source": [
    "# Define dataset class\n",
    "class SnoreDataset(Dataset):\n",
    "    def __init__(self, features, labels):\n",
    "        self.features = features\n",
    "        self.labels = labels\n",
    "\n",
    "    def __len__(self):\n",
    "        return len(self.features)\n",
    "\n",
    "    def __getitem__(self, idx):\n",
    "        feature = self.features[idx]\n",
    "        label = self.labels[idx]\n",
    "        return torch.tensor(feature, dtype=torch.float32), torch.tensor(label, dtype=torch.float32)\n",
    "\n",
    "# Define function to evaluate the models\n",
    "def evaluate_model(model, test_loader):\n",
    "    model.eval()\n",
    "    all_preds = []\n",
    "    all_labels = []\n",
    "\n",
    "    with torch.no_grad():\n",
    "        for inputs, labels in test_loader:\n",
    "            outputs = model(inputs)\n",
    "            all_preds.append(outputs.cpu().numpy())\n",
    "            all_labels.append(labels.cpu().numpy())\n",
    "\n",
    "    predictions = np.vstack(all_preds)\n",
    "    true_labels = np.vstack(all_labels)\n",
    "    mse = mean_squared_error(true_labels, predictions)\n",
    "    \n",
    "    # For accuracy, you need to threshold the predictions and compare to true labels\n",
    "    accuracy = accuracy_score(np.round(true_labels), np.round(predictions))\n",
    "    return mse, accuracy"
   ]
  },
  {
   "cell_type": "code",
   "execution_count": null,
   "metadata": {},
   "outputs": [],
   "source": [
    "# Load test features and labels\n",
    "feature_sets = ['mfccs', 'spectral', 'rmse', 'zcr']\n",
    "test_features = {key: np.load(f'../Dataset/test_{key}_features.npy') for key in feature_sets}\n",
    "test_labels = np.load('../Dataset/test_labels.npy')\n",
    "\n",
    "# Prepare the test datasets and dataloaders\n",
    "test_datasets = {key: SnoreDataset(test_features[key], test_labels) for key in feature_sets}\n",
    "test_loaders = {key: DataLoader(test_datasets[key], batch_size=16, shuffle=False) for key in feature_sets}"
   ]
  },
  {
   "cell_type": "code",
   "execution_count": null,
   "metadata": {},
   "outputs": [],
   "source": [
    "# Load the trained models\n",
    "# Load the trained models\n",
    "unet_model = UNet1D()\n",
    "unet_model.load_state_dict(torch.load('../Reconstructed/unet1d_model.pth'))\n",
    "\n",
    "cnn_autoencoder_model = AdvancedCNNAutoencoder()\n",
    "cnn_autoencoder_model.load_state_dict(torch.load('../Reconstructed/advanced_cnn_autoencoder_model.pth'))"
   ]
  },
  {
   "cell_type": "code",
   "execution_count": null,
   "metadata": {},
   "outputs": [],
   "source": [
    "# Evaluate the models\n",
    "results = []\n",
    "for feature_set in feature_sets:\n",
    "    unet_mse, unet_accuracy = evaluate_model(unet_model, test_loaders[feature_set])\n",
    "    cnn_autoencoder_mse, cnn_autoencoder_accuracy = evaluate_model(cnn_autoencoder_model, test_loaders[feature_set])\n",
    "    results.append({\n",
    "        'Feature Set': feature_set,\n",
    "        'Model': 'UNet1D',\n",
    "        'MSE': unet_mse,\n",
    "        'Accuracy': unet_accuracy\n",
    "    })\n",
    "    results.append({\n",
    "        'Feature Set': feature_set,\n",
    "        'Model': 'AdvancedCNNAutoencoder',\n",
    "        'MSE': cnn_autoencoder_mse,\n",
    "        'Accuracy': cnn_autoencoder_accuracy\n",
    "    })\n",
    "\n",
    "for result in results:\n",
    "    print(f\"Feature Set: {result['Feature Set']}, Model: {result['Model']}, MSE: {result['MSE']}, Accuracy: {result['Accuracy']}\")"
   ]
  },
  {
   "cell_type": "code",
   "execution_count": null,
   "metadata": {},
   "outputs": [],
   "source": [
    "# Create the performance table\n",
    "df = pd.DataFrame(results)\n",
    "print(df)"
   ]
  }
 ],
 "metadata": {
  "language_info": {
   "name": "python"
  }
 },
 "nbformat": 4,
 "nbformat_minor": 2
}
